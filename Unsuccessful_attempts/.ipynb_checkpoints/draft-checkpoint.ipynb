{
 "cells": [
  {
   "cell_type": "markdown",
   "id": "d2a2d484-4739-4e19-838a-81a1c5f605b8",
   "metadata": {},
   "source": [
    "## Trying chessboard"
   ]
  },
  {
   "cell_type": "code",
   "execution_count": 1,
   "id": "80b23b9f-cca0-417b-b677-6c04a8893611",
   "metadata": {},
   "outputs": [
    {
     "name": "stdout",
     "output_type": "stream",
     "text": [
      "Requirement already satisfied: chess-board in /home/fhernandez/anaconda3/lib/python3.11/site-packages (0.4.1)\n",
      "Requirement already satisfied: pygame in /home/fhernandez/anaconda3/lib/python3.11/site-packages (from chess-board) (2.5.2)\n",
      "\u001b[33mDEPRECATION: nb-black 1.0.7 has a non-standard dependency specifier black>='19.3'; python_version >= \"3.6\". pip 23.3 will enforce this behaviour change. A possible replacement is to upgrade to a newer version of nb-black or contact the author to suggest that they release a version with a conforming dependency specifiers. Discussion can be found at https://github.com/pypa/pip/issues/12063\u001b[0m\u001b[33m\n",
      "\u001b[0mNote: you may need to restart the kernel to use updated packages.\n"
     ]
    }
   ],
   "source": [
    "pip install chess-board"
   ]
  },
  {
   "cell_type": "code",
   "execution_count": 4,
   "id": "5b56e88d-41ac-425e-a9c3-28c33679f296",
   "metadata": {},
   "outputs": [
    {
     "name": "stdout",
     "output_type": "stream",
     "text": [
      "pygame 2.5.2 (SDL 2.28.2, Python 3.11.5)\n",
      "Hello from the pygame community. https://www.pygame.org/contribute.html\n"
     ]
    }
   ],
   "source": [
    "import pygame"
   ]
  },
  {
   "cell_type": "code",
   "execution_count": 3,
   "id": "20a10960-06f5-4b58-9499-33db6200d92a",
   "metadata": {},
   "outputs": [
    {
     "data": {
      "text/plain": [
       "0"
      ]
     },
     "execution_count": 3,
     "metadata": {},
     "output_type": "execute_result"
    }
   ],
   "source": [
    "1 // 4"
   ]
  },
  {
   "cell_type": "code",
   "execution_count": 1,
   "id": "f82e7b17-76f9-484b-9207-b5c989c8dc7f",
   "metadata": {},
   "outputs": [],
   "source": [
    "from chessboard import display"
   ]
  },
  {
   "cell_type": "code",
   "execution_count": 1,
   "id": "5ffaebae-9668-48eb-94c7-cca7f4ea09af",
   "metadata": {},
   "outputs": [
    {
     "name": "stdout",
     "output_type": "stream",
     "text": [
      "Requirement already satisfied: pygame in /home/fhernandez/anaconda3/lib/python3.11/site-packages (2.5.2)\n",
      "\u001b[33mDEPRECATION: nb-black 1.0.7 has a non-standard dependency specifier black>='19.3'; python_version >= \"3.6\". pip 23.3 will enforce this behaviour change. A possible replacement is to upgrade to a newer version of nb-black or contact the author to suggest that they release a version with a conforming dependency specifiers. Discussion can be found at https://github.com/pypa/pip/issues/12063\u001b[0m\u001b[33m\n",
      "\u001b[0mNote: you may need to restart the kernel to use updated packages.\n"
     ]
    }
   ],
   "source": [
    "pip install pygame"
   ]
  },
  {
   "cell_type": "code",
   "execution_count": 4,
   "id": "f2a21fa6-338b-4f11-a7b9-d2f12cdd7b04",
   "metadata": {},
   "outputs": [],
   "source": [
    "valid_fen = 'r1b1r1k1/5pp1/pbp4p/1p6/8/P1PPnPpP/1PB3P1/R1Q1R1NK w - - 0 28' # (my last blitz game)\n",
    "# r1b1r1k1/5pp1/pbp4p/1p6/8/P1PPnPpP/1PB3P1/R1Q1R1NK w - - 0 28"
   ]
  },
  {
   "cell_type": "code",
   "execution_count": null,
   "id": "0dd36462-9470-4549-94fc-5497057ae814",
   "metadata": {},
   "outputs": [],
   "source": [
    "game_board = display.start()\n",
    "display.update(valid_fen, game_board)\n",
    "\n",
    "# Checking GUI window for QUIT event. (Esc or GUI CANCEL)\n",
    "display.check_for_quit()\n",
    "\n",
    "# Close window\n",
    "display.terminate()"
   ]
  },
  {
   "cell_type": "code",
   "execution_count": 3,
   "id": "164cd297-4d47-462d-998d-f85f2b23486e",
   "metadata": {},
   "outputs": [
    {
     "data": {
      "text/plain": [
       "'r1b1r1k1/5pp1/pbp4p/1p6/8/P1PPnPpP/1PB3P1/R1Q1R1NK w - - 0 28'"
      ]
     },
     "execution_count": 3,
     "metadata": {},
     "output_type": "execute_result"
    }
   ],
   "source": [
    "valid_fen"
   ]
  },
  {
   "cell_type": "code",
   "execution_count": null,
   "id": "6d76ff11-262f-4a40-9d84-b6b0bfdb584d",
   "metadata": {},
   "outputs": [],
   "source": [
    "game_board = display.start()"
   ]
  },
  {
   "cell_type": "code",
   "execution_count": null,
   "id": "1da961c3-bf78-4e5d-935d-31b214fed98b",
   "metadata": {},
   "outputs": [],
   "source": []
  }
 ],
 "metadata": {
  "kernelspec": {
   "display_name": "Python 3 (ipykernel)",
   "language": "python",
   "name": "python3"
  },
  "language_info": {
   "codemirror_mode": {
    "name": "ipython",
    "version": 3
   },
   "file_extension": ".py",
   "mimetype": "text/x-python",
   "name": "python",
   "nbconvert_exporter": "python",
   "pygments_lexer": "ipython3",
   "version": "3.11.5"
  }
 },
 "nbformat": 4,
 "nbformat_minor": 5
}
